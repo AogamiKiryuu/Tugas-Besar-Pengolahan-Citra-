{
  "nbformat": 4,
  "nbformat_minor": 0,
  "metadata": {
    "colab": {
      "provenance": []
    },
    "kernelspec": {
      "name": "python3",
      "display_name": "Python 3"
    },
    "language_info": {
      "name": "python"
    }
  },
  "cells": [
    {
      "cell_type": "markdown",
      "source": [
        "#FINAL MAYBE"
      ],
      "metadata": {
        "id": "CaavATObJQtg"
      }
    },
    {
      "cell_type": "markdown",
      "source": [
        "## Install Depedensi"
      ],
      "metadata": {
        "id": "5mbdWuXBFXS5"
      }
    },
    {
      "cell_type": "code",
      "execution_count": 1,
      "metadata": {
        "colab": {
          "base_uri": "https://localhost:8080/"
        },
        "id": "g_2eMfiBEjB3",
        "outputId": "6cf8ad08-328a-49e9-a947-e1b49f815071"
      },
      "outputs": [
        {
          "output_type": "stream",
          "name": "stdout",
          "text": [
            "Mounted at /content/drive\n",
            "Requirement already satisfied: scikit-image in /usr/local/lib/python3.11/dist-packages (0.25.2)\n",
            "Requirement already satisfied: gradio in /usr/local/lib/python3.11/dist-packages (5.31.0)\n",
            "Requirement already satisfied: numpy>=1.24 in /usr/local/lib/python3.11/dist-packages (from scikit-image) (2.0.2)\n",
            "Requirement already satisfied: scipy>=1.11.4 in /usr/local/lib/python3.11/dist-packages (from scikit-image) (1.15.3)\n",
            "Requirement already satisfied: networkx>=3.0 in /usr/local/lib/python3.11/dist-packages (from scikit-image) (3.5)\n",
            "Requirement already satisfied: pillow>=10.1 in /usr/local/lib/python3.11/dist-packages (from scikit-image) (11.2.1)\n",
            "Requirement already satisfied: imageio!=2.35.0,>=2.33 in /usr/local/lib/python3.11/dist-packages (from scikit-image) (2.37.0)\n",
            "Requirement already satisfied: tifffile>=2022.8.12 in /usr/local/lib/python3.11/dist-packages (from scikit-image) (2025.6.11)\n",
            "Requirement already satisfied: packaging>=21 in /usr/local/lib/python3.11/dist-packages (from scikit-image) (24.2)\n",
            "Requirement already satisfied: lazy-loader>=0.4 in /usr/local/lib/python3.11/dist-packages (from scikit-image) (0.4)\n",
            "Requirement already satisfied: aiofiles<25.0,>=22.0 in /usr/local/lib/python3.11/dist-packages (from gradio) (24.1.0)\n",
            "Requirement already satisfied: anyio<5.0,>=3.0 in /usr/local/lib/python3.11/dist-packages (from gradio) (4.9.0)\n",
            "Requirement already satisfied: fastapi<1.0,>=0.115.2 in /usr/local/lib/python3.11/dist-packages (from gradio) (0.115.12)\n",
            "Requirement already satisfied: ffmpy in /usr/local/lib/python3.11/dist-packages (from gradio) (0.6.0)\n",
            "Requirement already satisfied: gradio-client==1.10.1 in /usr/local/lib/python3.11/dist-packages (from gradio) (1.10.1)\n",
            "Requirement already satisfied: groovy~=0.1 in /usr/local/lib/python3.11/dist-packages (from gradio) (0.1.2)\n",
            "Requirement already satisfied: httpx>=0.24.1 in /usr/local/lib/python3.11/dist-packages (from gradio) (0.28.1)\n",
            "Requirement already satisfied: huggingface-hub>=0.28.1 in /usr/local/lib/python3.11/dist-packages (from gradio) (0.33.0)\n",
            "Requirement already satisfied: jinja2<4.0 in /usr/local/lib/python3.11/dist-packages (from gradio) (3.1.6)\n",
            "Requirement already satisfied: markupsafe<4.0,>=2.0 in /usr/local/lib/python3.11/dist-packages (from gradio) (3.0.2)\n",
            "Requirement already satisfied: orjson~=3.0 in /usr/local/lib/python3.11/dist-packages (from gradio) (3.10.18)\n",
            "Requirement already satisfied: pandas<3.0,>=1.0 in /usr/local/lib/python3.11/dist-packages (from gradio) (2.2.2)\n",
            "Requirement already satisfied: pydantic<2.12,>=2.0 in /usr/local/lib/python3.11/dist-packages (from gradio) (2.11.7)\n",
            "Requirement already satisfied: pydub in /usr/local/lib/python3.11/dist-packages (from gradio) (0.25.1)\n",
            "Requirement already satisfied: python-multipart>=0.0.18 in /usr/local/lib/python3.11/dist-packages (from gradio) (0.0.20)\n",
            "Requirement already satisfied: pyyaml<7.0,>=5.0 in /usr/local/lib/python3.11/dist-packages (from gradio) (6.0.2)\n",
            "Requirement already satisfied: ruff>=0.9.3 in /usr/local/lib/python3.11/dist-packages (from gradio) (0.11.13)\n",
            "Requirement already satisfied: safehttpx<0.2.0,>=0.1.6 in /usr/local/lib/python3.11/dist-packages (from gradio) (0.1.6)\n",
            "Requirement already satisfied: semantic-version~=2.0 in /usr/local/lib/python3.11/dist-packages (from gradio) (2.10.0)\n",
            "Requirement already satisfied: starlette<1.0,>=0.40.0 in /usr/local/lib/python3.11/dist-packages (from gradio) (0.46.2)\n",
            "Requirement already satisfied: tomlkit<0.14.0,>=0.12.0 in /usr/local/lib/python3.11/dist-packages (from gradio) (0.13.3)\n",
            "Requirement already satisfied: typer<1.0,>=0.12 in /usr/local/lib/python3.11/dist-packages (from gradio) (0.16.0)\n",
            "Requirement already satisfied: typing-extensions~=4.0 in /usr/local/lib/python3.11/dist-packages (from gradio) (4.14.0)\n",
            "Requirement already satisfied: uvicorn>=0.14.0 in /usr/local/lib/python3.11/dist-packages (from gradio) (0.34.3)\n",
            "Requirement already satisfied: fsspec in /usr/local/lib/python3.11/dist-packages (from gradio-client==1.10.1->gradio) (2025.3.2)\n",
            "Requirement already satisfied: websockets<16.0,>=10.0 in /usr/local/lib/python3.11/dist-packages (from gradio-client==1.10.1->gradio) (15.0.1)\n",
            "Requirement already satisfied: idna>=2.8 in /usr/local/lib/python3.11/dist-packages (from anyio<5.0,>=3.0->gradio) (3.10)\n",
            "Requirement already satisfied: sniffio>=1.1 in /usr/local/lib/python3.11/dist-packages (from anyio<5.0,>=3.0->gradio) (1.3.1)\n",
            "Requirement already satisfied: certifi in /usr/local/lib/python3.11/dist-packages (from httpx>=0.24.1->gradio) (2025.6.15)\n",
            "Requirement already satisfied: httpcore==1.* in /usr/local/lib/python3.11/dist-packages (from httpx>=0.24.1->gradio) (1.0.9)\n",
            "Requirement already satisfied: h11>=0.16 in /usr/local/lib/python3.11/dist-packages (from httpcore==1.*->httpx>=0.24.1->gradio) (0.16.0)\n",
            "Requirement already satisfied: filelock in /usr/local/lib/python3.11/dist-packages (from huggingface-hub>=0.28.1->gradio) (3.18.0)\n",
            "Requirement already satisfied: requests in /usr/local/lib/python3.11/dist-packages (from huggingface-hub>=0.28.1->gradio) (2.32.3)\n",
            "Requirement already satisfied: tqdm>=4.42.1 in /usr/local/lib/python3.11/dist-packages (from huggingface-hub>=0.28.1->gradio) (4.67.1)\n",
            "Requirement already satisfied: hf-xet<2.0.0,>=1.1.2 in /usr/local/lib/python3.11/dist-packages (from huggingface-hub>=0.28.1->gradio) (1.1.3)\n",
            "Requirement already satisfied: python-dateutil>=2.8.2 in /usr/local/lib/python3.11/dist-packages (from pandas<3.0,>=1.0->gradio) (2.9.0.post0)\n",
            "Requirement already satisfied: pytz>=2020.1 in /usr/local/lib/python3.11/dist-packages (from pandas<3.0,>=1.0->gradio) (2025.2)\n",
            "Requirement already satisfied: tzdata>=2022.7 in /usr/local/lib/python3.11/dist-packages (from pandas<3.0,>=1.0->gradio) (2025.2)\n",
            "Requirement already satisfied: annotated-types>=0.6.0 in /usr/local/lib/python3.11/dist-packages (from pydantic<2.12,>=2.0->gradio) (0.7.0)\n",
            "Requirement already satisfied: pydantic-core==2.33.2 in /usr/local/lib/python3.11/dist-packages (from pydantic<2.12,>=2.0->gradio) (2.33.2)\n",
            "Requirement already satisfied: typing-inspection>=0.4.0 in /usr/local/lib/python3.11/dist-packages (from pydantic<2.12,>=2.0->gradio) (0.4.1)\n",
            "Requirement already satisfied: click>=8.0.0 in /usr/local/lib/python3.11/dist-packages (from typer<1.0,>=0.12->gradio) (8.2.1)\n",
            "Requirement already satisfied: shellingham>=1.3.0 in /usr/local/lib/python3.11/dist-packages (from typer<1.0,>=0.12->gradio) (1.5.4)\n",
            "Requirement already satisfied: rich>=10.11.0 in /usr/local/lib/python3.11/dist-packages (from typer<1.0,>=0.12->gradio) (13.9.4)\n",
            "Requirement already satisfied: six>=1.5 in /usr/local/lib/python3.11/dist-packages (from python-dateutil>=2.8.2->pandas<3.0,>=1.0->gradio) (1.17.0)\n",
            "Requirement already satisfied: markdown-it-py>=2.2.0 in /usr/local/lib/python3.11/dist-packages (from rich>=10.11.0->typer<1.0,>=0.12->gradio) (3.0.0)\n",
            "Requirement already satisfied: pygments<3.0.0,>=2.13.0 in /usr/local/lib/python3.11/dist-packages (from rich>=10.11.0->typer<1.0,>=0.12->gradio) (2.19.1)\n",
            "Requirement already satisfied: charset-normalizer<4,>=2 in /usr/local/lib/python3.11/dist-packages (from requests->huggingface-hub>=0.28.1->gradio) (3.4.2)\n",
            "Requirement already satisfied: urllib3<3,>=1.21.1 in /usr/local/lib/python3.11/dist-packages (from requests->huggingface-hub>=0.28.1->gradio) (2.4.0)\n",
            "Requirement already satisfied: mdurl~=0.1 in /usr/local/lib/python3.11/dist-packages (from markdown-it-py>=2.2.0->rich>=10.11.0->typer<1.0,>=0.12->gradio) (0.1.2)\n"
          ]
        }
      ],
      "source": [
        "# Mount Google Drive\n",
        "from google.colab import drive\n",
        "drive.mount('/content/drive')\n",
        "\n",
        "# Install package yang dibutuhkan\n",
        "!pip install scikit-image gradio\n",
        "\n",
        "# Import library\n",
        "import os\n",
        "import cv2\n",
        "import numpy as np\n",
        "import pandas as pd\n",
        "import gradio as gr\n",
        "from sklearn.ensemble import RandomForestClassifier\n",
        "from sklearn.svm import SVC\n",
        "from sklearn.model_selection import train_test_split\n",
        "from sklearn.metrics import classification_report, accuracy_score\n",
        "from skimage.feature import graycomatrix, graycoprops\n",
        "from skimage.color import rgb2gray\n",
        "import seaborn as sns\n",
        "import matplotlib.pyplot as plt\n",
        "from sklearn.metrics import confusion_matrix"
      ]
    },
    {
      "cell_type": "markdown",
      "source": [
        "## Load Dataset"
      ],
      "metadata": {
        "id": "JtUzr4IgFeXZ"
      }
    },
    {
      "cell_type": "code",
      "source": [
        "# Ganti path sesuai foldermu di Google Drive\n",
        "image_dir = \"/content/drive/MyDrive/Meat Dataset\"\n",
        "\n",
        "def load_images_labels(image_dir):\n",
        "    images, labels = [], []\n",
        "    for label in os.listdir(image_dir):\n",
        "        folder = os.path.join(image_dir, label)\n",
        "        for file in os.listdir(folder):\n",
        "            img_path = os.path.join(folder, file)\n",
        "            img = cv2.imread(img_path)\n",
        "            if img is None:\n",
        "                continue\n",
        "            img = cv2.resize(img, (128, 128))\n",
        "            images.append(img)\n",
        "            labels.append(label)\n",
        "    return images, labels\n",
        "\n",
        "images, labels = load_images_labels(image_dir)\n",
        "print(\"Jumlah gambar:\", len(images))\n",
        "print(\"Label unik:\", set(labels))"
      ],
      "metadata": {
        "colab": {
          "base_uri": "https://localhost:8080/"
        },
        "id": "n6cjWI_pFoGU",
        "outputId": "a2cf77b4-4a0a-41b6-a6ef-3979aa6129f9"
      },
      "execution_count": 4,
      "outputs": [
        {
          "output_type": "stream",
          "name": "stdout",
          "text": [
            "Jumlah gambar: 386\n",
            "Label unik: {'Non Daging', 'Meat', 'Pork', 'Horse Meat'}\n"
          ]
        }
      ]
    },
    {
      "cell_type": "markdown",
      "source": [
        "## Ekstraksi Fitur"
      ],
      "metadata": {
        "id": "80Woeek5F7iH"
      }
    },
    {
      "cell_type": "code",
      "source": [
        "def extract_glcm_features(gray_img):\n",
        "    glcm = graycomatrix(gray_img, distances=[1], angles=[0], levels=256, symmetric=True, normed=True)\n",
        "    features = {\n",
        "        'contrast': graycoprops(glcm, 'contrast')[0][0],\n",
        "        'dissimilarity': graycoprops(glcm, 'dissimilarity')[0][0],\n",
        "        'homogeneity': graycoprops(glcm, 'homogeneity')[0][0],\n",
        "        'ASM': graycoprops(glcm, 'ASM')[0][0],\n",
        "        'energy': graycoprops(glcm, 'energy')[0][0],\n",
        "        'correlation': graycoprops(glcm, 'correlation')[0][0]\n",
        "    }\n",
        "    return features"
      ],
      "metadata": {
        "id": "B0wbBtFoF36A"
      },
      "execution_count": 5,
      "outputs": []
    },
    {
      "cell_type": "markdown",
      "source": [
        "## Dataset Fitur"
      ],
      "metadata": {
        "id": "Ba3Ui7XyF_1E"
      }
    },
    {
      "cell_type": "code",
      "source": [
        "def build_feature_dataset(images, labels):\n",
        "    data = []\n",
        "    for img, label in zip(images, labels):\n",
        "        gray = cv2.cvtColor(img, cv2.COLOR_BGR2GRAY)\n",
        "        features = extract_glcm_features(gray)\n",
        "        features['label'] = label\n",
        "        data.append(features)\n",
        "    return pd.DataFrame(data)\n",
        "\n",
        "df_features = build_feature_dataset(images, labels)\n",
        "df_features.head()"
      ],
      "metadata": {
        "colab": {
          "base_uri": "https://localhost:8080/",
          "height": 206
        },
        "id": "YyPeC9Q6GCDr",
        "outputId": "8754fe9b-d25a-4d3d-a621-396ec73b0174"
      },
      "execution_count": 6,
      "outputs": [
        {
          "output_type": "execute_result",
          "data": {
            "text/plain": [
              "     contrast  dissimilarity  homogeneity       ASM    energy  correlation  \\\n",
              "0  308.330401       9.000800     0.172684  0.000556  0.023584     0.776712   \n",
              "1  186.963583       7.908588     0.165549  0.000639  0.025279     0.827457   \n",
              "2  260.146038      10.204232     0.133256  0.000344  0.018552     0.862162   \n",
              "3   55.645300       5.333292     0.186634  0.000548  0.023417     0.962476   \n",
              "4  548.632874      12.518578     0.128469  0.000438  0.020927     0.533505   \n",
              "\n",
              "        label  \n",
              "0  Horse Meat  \n",
              "1  Horse Meat  \n",
              "2  Horse Meat  \n",
              "3  Horse Meat  \n",
              "4  Horse Meat  "
            ],
            "text/html": [
              "\n",
              "  <div id=\"df-8d99f129-4dc4-45e8-8ef4-0e44cdbc64f0\" class=\"colab-df-container\">\n",
              "    <div>\n",
              "<style scoped>\n",
              "    .dataframe tbody tr th:only-of-type {\n",
              "        vertical-align: middle;\n",
              "    }\n",
              "\n",
              "    .dataframe tbody tr th {\n",
              "        vertical-align: top;\n",
              "    }\n",
              "\n",
              "    .dataframe thead th {\n",
              "        text-align: right;\n",
              "    }\n",
              "</style>\n",
              "<table border=\"1\" class=\"dataframe\">\n",
              "  <thead>\n",
              "    <tr style=\"text-align: right;\">\n",
              "      <th></th>\n",
              "      <th>contrast</th>\n",
              "      <th>dissimilarity</th>\n",
              "      <th>homogeneity</th>\n",
              "      <th>ASM</th>\n",
              "      <th>energy</th>\n",
              "      <th>correlation</th>\n",
              "      <th>label</th>\n",
              "    </tr>\n",
              "  </thead>\n",
              "  <tbody>\n",
              "    <tr>\n",
              "      <th>0</th>\n",
              "      <td>308.330401</td>\n",
              "      <td>9.000800</td>\n",
              "      <td>0.172684</td>\n",
              "      <td>0.000556</td>\n",
              "      <td>0.023584</td>\n",
              "      <td>0.776712</td>\n",
              "      <td>Horse Meat</td>\n",
              "    </tr>\n",
              "    <tr>\n",
              "      <th>1</th>\n",
              "      <td>186.963583</td>\n",
              "      <td>7.908588</td>\n",
              "      <td>0.165549</td>\n",
              "      <td>0.000639</td>\n",
              "      <td>0.025279</td>\n",
              "      <td>0.827457</td>\n",
              "      <td>Horse Meat</td>\n",
              "    </tr>\n",
              "    <tr>\n",
              "      <th>2</th>\n",
              "      <td>260.146038</td>\n",
              "      <td>10.204232</td>\n",
              "      <td>0.133256</td>\n",
              "      <td>0.000344</td>\n",
              "      <td>0.018552</td>\n",
              "      <td>0.862162</td>\n",
              "      <td>Horse Meat</td>\n",
              "    </tr>\n",
              "    <tr>\n",
              "      <th>3</th>\n",
              "      <td>55.645300</td>\n",
              "      <td>5.333292</td>\n",
              "      <td>0.186634</td>\n",
              "      <td>0.000548</td>\n",
              "      <td>0.023417</td>\n",
              "      <td>0.962476</td>\n",
              "      <td>Horse Meat</td>\n",
              "    </tr>\n",
              "    <tr>\n",
              "      <th>4</th>\n",
              "      <td>548.632874</td>\n",
              "      <td>12.518578</td>\n",
              "      <td>0.128469</td>\n",
              "      <td>0.000438</td>\n",
              "      <td>0.020927</td>\n",
              "      <td>0.533505</td>\n",
              "      <td>Horse Meat</td>\n",
              "    </tr>\n",
              "  </tbody>\n",
              "</table>\n",
              "</div>\n",
              "    <div class=\"colab-df-buttons\">\n",
              "\n",
              "  <div class=\"colab-df-container\">\n",
              "    <button class=\"colab-df-convert\" onclick=\"convertToInteractive('df-8d99f129-4dc4-45e8-8ef4-0e44cdbc64f0')\"\n",
              "            title=\"Convert this dataframe to an interactive table.\"\n",
              "            style=\"display:none;\">\n",
              "\n",
              "  <svg xmlns=\"http://www.w3.org/2000/svg\" height=\"24px\" viewBox=\"0 -960 960 960\">\n",
              "    <path d=\"M120-120v-720h720v720H120Zm60-500h600v-160H180v160Zm220 220h160v-160H400v160Zm0 220h160v-160H400v160ZM180-400h160v-160H180v160Zm440 0h160v-160H620v160ZM180-180h160v-160H180v160Zm440 0h160v-160H620v160Z\"/>\n",
              "  </svg>\n",
              "    </button>\n",
              "\n",
              "  <style>\n",
              "    .colab-df-container {\n",
              "      display:flex;\n",
              "      gap: 12px;\n",
              "    }\n",
              "\n",
              "    .colab-df-convert {\n",
              "      background-color: #E8F0FE;\n",
              "      border: none;\n",
              "      border-radius: 50%;\n",
              "      cursor: pointer;\n",
              "      display: none;\n",
              "      fill: #1967D2;\n",
              "      height: 32px;\n",
              "      padding: 0 0 0 0;\n",
              "      width: 32px;\n",
              "    }\n",
              "\n",
              "    .colab-df-convert:hover {\n",
              "      background-color: #E2EBFA;\n",
              "      box-shadow: 0px 1px 2px rgba(60, 64, 67, 0.3), 0px 1px 3px 1px rgba(60, 64, 67, 0.15);\n",
              "      fill: #174EA6;\n",
              "    }\n",
              "\n",
              "    .colab-df-buttons div {\n",
              "      margin-bottom: 4px;\n",
              "    }\n",
              "\n",
              "    [theme=dark] .colab-df-convert {\n",
              "      background-color: #3B4455;\n",
              "      fill: #D2E3FC;\n",
              "    }\n",
              "\n",
              "    [theme=dark] .colab-df-convert:hover {\n",
              "      background-color: #434B5C;\n",
              "      box-shadow: 0px 1px 3px 1px rgba(0, 0, 0, 0.15);\n",
              "      filter: drop-shadow(0px 1px 2px rgba(0, 0, 0, 0.3));\n",
              "      fill: #FFFFFF;\n",
              "    }\n",
              "  </style>\n",
              "\n",
              "    <script>\n",
              "      const buttonEl =\n",
              "        document.querySelector('#df-8d99f129-4dc4-45e8-8ef4-0e44cdbc64f0 button.colab-df-convert');\n",
              "      buttonEl.style.display =\n",
              "        google.colab.kernel.accessAllowed ? 'block' : 'none';\n",
              "\n",
              "      async function convertToInteractive(key) {\n",
              "        const element = document.querySelector('#df-8d99f129-4dc4-45e8-8ef4-0e44cdbc64f0');\n",
              "        const dataTable =\n",
              "          await google.colab.kernel.invokeFunction('convertToInteractive',\n",
              "                                                    [key], {});\n",
              "        if (!dataTable) return;\n",
              "\n",
              "        const docLinkHtml = 'Like what you see? Visit the ' +\n",
              "          '<a target=\"_blank\" href=https://colab.research.google.com/notebooks/data_table.ipynb>data table notebook</a>'\n",
              "          + ' to learn more about interactive tables.';\n",
              "        element.innerHTML = '';\n",
              "        dataTable['output_type'] = 'display_data';\n",
              "        await google.colab.output.renderOutput(dataTable, element);\n",
              "        const docLink = document.createElement('div');\n",
              "        docLink.innerHTML = docLinkHtml;\n",
              "        element.appendChild(docLink);\n",
              "      }\n",
              "    </script>\n",
              "  </div>\n",
              "\n",
              "\n",
              "    <div id=\"df-50bcf0ed-64a5-4184-93d9-bf94d8a62e8f\">\n",
              "      <button class=\"colab-df-quickchart\" onclick=\"quickchart('df-50bcf0ed-64a5-4184-93d9-bf94d8a62e8f')\"\n",
              "                title=\"Suggest charts\"\n",
              "                style=\"display:none;\">\n",
              "\n",
              "<svg xmlns=\"http://www.w3.org/2000/svg\" height=\"24px\"viewBox=\"0 0 24 24\"\n",
              "     width=\"24px\">\n",
              "    <g>\n",
              "        <path d=\"M19 3H5c-1.1 0-2 .9-2 2v14c0 1.1.9 2 2 2h14c1.1 0 2-.9 2-2V5c0-1.1-.9-2-2-2zM9 17H7v-7h2v7zm4 0h-2V7h2v10zm4 0h-2v-4h2v4z\"/>\n",
              "    </g>\n",
              "</svg>\n",
              "      </button>\n",
              "\n",
              "<style>\n",
              "  .colab-df-quickchart {\n",
              "      --bg-color: #E8F0FE;\n",
              "      --fill-color: #1967D2;\n",
              "      --hover-bg-color: #E2EBFA;\n",
              "      --hover-fill-color: #174EA6;\n",
              "      --disabled-fill-color: #AAA;\n",
              "      --disabled-bg-color: #DDD;\n",
              "  }\n",
              "\n",
              "  [theme=dark] .colab-df-quickchart {\n",
              "      --bg-color: #3B4455;\n",
              "      --fill-color: #D2E3FC;\n",
              "      --hover-bg-color: #434B5C;\n",
              "      --hover-fill-color: #FFFFFF;\n",
              "      --disabled-bg-color: #3B4455;\n",
              "      --disabled-fill-color: #666;\n",
              "  }\n",
              "\n",
              "  .colab-df-quickchart {\n",
              "    background-color: var(--bg-color);\n",
              "    border: none;\n",
              "    border-radius: 50%;\n",
              "    cursor: pointer;\n",
              "    display: none;\n",
              "    fill: var(--fill-color);\n",
              "    height: 32px;\n",
              "    padding: 0;\n",
              "    width: 32px;\n",
              "  }\n",
              "\n",
              "  .colab-df-quickchart:hover {\n",
              "    background-color: var(--hover-bg-color);\n",
              "    box-shadow: 0 1px 2px rgba(60, 64, 67, 0.3), 0 1px 3px 1px rgba(60, 64, 67, 0.15);\n",
              "    fill: var(--button-hover-fill-color);\n",
              "  }\n",
              "\n",
              "  .colab-df-quickchart-complete:disabled,\n",
              "  .colab-df-quickchart-complete:disabled:hover {\n",
              "    background-color: var(--disabled-bg-color);\n",
              "    fill: var(--disabled-fill-color);\n",
              "    box-shadow: none;\n",
              "  }\n",
              "\n",
              "  .colab-df-spinner {\n",
              "    border: 2px solid var(--fill-color);\n",
              "    border-color: transparent;\n",
              "    border-bottom-color: var(--fill-color);\n",
              "    animation:\n",
              "      spin 1s steps(1) infinite;\n",
              "  }\n",
              "\n",
              "  @keyframes spin {\n",
              "    0% {\n",
              "      border-color: transparent;\n",
              "      border-bottom-color: var(--fill-color);\n",
              "      border-left-color: var(--fill-color);\n",
              "    }\n",
              "    20% {\n",
              "      border-color: transparent;\n",
              "      border-left-color: var(--fill-color);\n",
              "      border-top-color: var(--fill-color);\n",
              "    }\n",
              "    30% {\n",
              "      border-color: transparent;\n",
              "      border-left-color: var(--fill-color);\n",
              "      border-top-color: var(--fill-color);\n",
              "      border-right-color: var(--fill-color);\n",
              "    }\n",
              "    40% {\n",
              "      border-color: transparent;\n",
              "      border-right-color: var(--fill-color);\n",
              "      border-top-color: var(--fill-color);\n",
              "    }\n",
              "    60% {\n",
              "      border-color: transparent;\n",
              "      border-right-color: var(--fill-color);\n",
              "    }\n",
              "    80% {\n",
              "      border-color: transparent;\n",
              "      border-right-color: var(--fill-color);\n",
              "      border-bottom-color: var(--fill-color);\n",
              "    }\n",
              "    90% {\n",
              "      border-color: transparent;\n",
              "      border-bottom-color: var(--fill-color);\n",
              "    }\n",
              "  }\n",
              "</style>\n",
              "\n",
              "      <script>\n",
              "        async function quickchart(key) {\n",
              "          const quickchartButtonEl =\n",
              "            document.querySelector('#' + key + ' button');\n",
              "          quickchartButtonEl.disabled = true;  // To prevent multiple clicks.\n",
              "          quickchartButtonEl.classList.add('colab-df-spinner');\n",
              "          try {\n",
              "            const charts = await google.colab.kernel.invokeFunction(\n",
              "                'suggestCharts', [key], {});\n",
              "          } catch (error) {\n",
              "            console.error('Error during call to suggestCharts:', error);\n",
              "          }\n",
              "          quickchartButtonEl.classList.remove('colab-df-spinner');\n",
              "          quickchartButtonEl.classList.add('colab-df-quickchart-complete');\n",
              "        }\n",
              "        (() => {\n",
              "          let quickchartButtonEl =\n",
              "            document.querySelector('#df-50bcf0ed-64a5-4184-93d9-bf94d8a62e8f button');\n",
              "          quickchartButtonEl.style.display =\n",
              "            google.colab.kernel.accessAllowed ? 'block' : 'none';\n",
              "        })();\n",
              "      </script>\n",
              "    </div>\n",
              "\n",
              "    </div>\n",
              "  </div>\n"
            ],
            "application/vnd.google.colaboratory.intrinsic+json": {
              "type": "dataframe",
              "variable_name": "df_features",
              "summary": "{\n  \"name\": \"df_features\",\n  \"rows\": 386,\n  \"fields\": [\n    {\n      \"column\": \"contrast\",\n      \"properties\": {\n        \"dtype\": \"number\",\n        \"std\": 245.23883045779635,\n        \"min\": 15.164677657480318,\n        \"max\": 1966.196665846457,\n        \"num_unique_values\": 385,\n        \"samples\": [\n          126.07351131889764,\n          128.3259719488189,\n          267.5020300196851\n        ],\n        \"semantic_type\": \"\",\n        \"description\": \"\"\n      }\n    },\n    {\n      \"column\": \"dissimilarity\",\n      \"properties\": {\n        \"dtype\": \"number\",\n        \"std\": 4.188944066614603,\n        \"min\": 2.268147145669291,\n        \"max\": 27.543614665354337,\n        \"num_unique_values\": 384,\n        \"samples\": [\n          4.687746062992126,\n          6.213275098425199,\n          13.895238681102363\n        ],\n        \"semantic_type\": \"\",\n        \"description\": \"\"\n      }\n    },\n    {\n      \"column\": \"homogeneity\",\n      \"properties\": {\n        \"dtype\": \"number\",\n        \"std\": 0.06734256196208123,\n        \"min\": 0.06477739253162876,\n        \"max\": 0.5319555482739651,\n        \"num_unique_values\": 385,\n        \"samples\": [\n          0.18985807184446826,\n          0.15380368299915692,\n          0.16904710517874602\n        ],\n        \"semantic_type\": \"\",\n        \"description\": \"\"\n      }\n    },\n    {\n      \"column\": \"ASM\",\n      \"properties\": {\n        \"dtype\": \"number\",\n        \"std\": 0.0123587505800799,\n        \"min\": 0.0001281477172329345,\n        \"max\": 0.240152184344896,\n        \"num_unique_values\": 385,\n        \"samples\": [\n          0.0010130117916485834,\n          0.0002986348135782209,\n          0.0007736846528380561\n        ],\n        \"semantic_type\": \"\",\n        \"description\": \"\"\n      }\n    },\n    {\n      \"column\": \"energy\",\n      \"properties\": {\n        \"dtype\": \"number\",\n        \"std\": 0.026503543530313634,\n        \"min\": 0.011320234857675636,\n        \"max\": 0.4900532464384824,\n        \"num_unique_values\": 385,\n        \"samples\": [\n          0.03182784616728853,\n          0.01728105360150882,\n          0.027815187449270518\n        ],\n        \"semantic_type\": \"\",\n        \"description\": \"\"\n      }\n    },\n    {\n      \"column\": \"correlation\",\n      \"properties\": {\n        \"dtype\": \"number\",\n        \"std\": 0.1385653906495722,\n        \"min\": 0.4633917914446477,\n        \"max\": 0.9949773508924085,\n        \"num_unique_values\": 385,\n        \"samples\": [\n          0.8827903928677332,\n          0.967076966591554,\n          0.6750208084218005\n        ],\n        \"semantic_type\": \"\",\n        \"description\": \"\"\n      }\n    },\n    {\n      \"column\": \"label\",\n      \"properties\": {\n        \"dtype\": \"category\",\n        \"num_unique_values\": 4,\n        \"samples\": [\n          \"Meat\",\n          \"Non Daging\",\n          \"Horse Meat\"\n        ],\n        \"semantic_type\": \"\",\n        \"description\": \"\"\n      }\n    }\n  ]\n}"
            }
          },
          "metadata": {},
          "execution_count": 6
        }
      ]
    },
    {
      "cell_type": "markdown",
      "source": [
        "## Pelatihan Model"
      ],
      "metadata": {
        "id": "vrFQ12P7GHUB"
      }
    },
    {
      "cell_type": "code",
      "source": [
        "# Data dan label\n",
        "X = df_features.drop('label', axis=1)\n",
        "y = df_features['label']\n",
        "\n",
        "# Daftar rasio train-test yang ingin dicoba\n",
        "split_ratios = [0.2, 0.25, 0.3, 0.5, 0.75, 0.8]  # artinya test_size\n",
        "\n",
        "print(\"=== Evaluasi Akurasi ===\")\n",
        "for test_size in split_ratios:\n",
        "    print(f\"\\n>> Train : Test = {int((1 - test_size)*100)} : {int(test_size*100)}\")\n",
        "\n",
        "    # Split data\n",
        "    X_train, X_test, y_train, y_test = train_test_split(\n",
        "        X, y, test_size=test_size, random_state=42\n",
        "    )\n",
        "\n",
        "    # Random Forest\n",
        "    model_rf = RandomForestClassifier(n_estimators=100, random_state=42)\n",
        "    model_rf.fit(X_train, y_train)\n",
        "    acc_rf = accuracy_score(y_test, model_rf.predict(X_test))\n",
        "\n",
        "    # SVM\n",
        "    model_svm = SVC(kernel='rbf', probability=True)\n",
        "    model_svm.fit(X_train, y_train)\n",
        "    acc_svm = accuracy_score(y_test, model_svm.predict(X_test))\n",
        "\n",
        "    print(f\"Random Forest Accuracy: {acc_rf:.4f}\")\n",
        "    print(f\"SVM Accuracy         : {acc_svm:.4f}\")"
      ],
      "metadata": {
        "colab": {
          "base_uri": "https://localhost:8080/"
        },
        "id": "Njzyjy6JGE4b",
        "outputId": "a70c2ea7-a3d0-4867-a9fe-34c2910152e3"
      },
      "execution_count": 8,
      "outputs": [
        {
          "output_type": "stream",
          "name": "stdout",
          "text": [
            "=== Evaluasi Akurasi ===\n",
            "\n",
            ">> Train : Test = 80 : 20\n",
            "Random Forest Accuracy: 0.6410\n",
            "SVM Accuracy         : 0.4103\n",
            "\n",
            ">> Train : Test = 75 : 25\n",
            "Random Forest Accuracy: 0.6907\n",
            "SVM Accuracy         : 0.4639\n",
            "\n",
            ">> Train : Test = 70 : 30\n",
            "Random Forest Accuracy: 0.7155\n",
            "SVM Accuracy         : 0.4741\n",
            "\n",
            ">> Train : Test = 50 : 50\n",
            "Random Forest Accuracy: 0.6736\n",
            "SVM Accuracy         : 0.5389\n",
            "\n",
            ">> Train : Test = 25 : 75\n",
            "Random Forest Accuracy: 0.6517\n",
            "SVM Accuracy         : 0.5621\n",
            "\n",
            ">> Train : Test = 19 : 80\n",
            "Random Forest Accuracy: 0.6311\n",
            "SVM Accuracy         : 0.5663\n"
          ]
        }
      ]
    },
    {
      "cell_type": "markdown",
      "source": [
        "## Evaluasi Model"
      ],
      "metadata": {
        "id": "M5_fS-c8GNm0"
      }
    },
    {
      "cell_type": "code",
      "source": [
        "# Data dan label\n",
        "X = df_features.drop('label', axis=1)\n",
        "y = df_features['label']\n",
        "\n",
        "# Daftar rasio test_size\n",
        "split_ratios = [0.2, 0.25, 0.3, 0.5, 0.75, 0.8]\n",
        "rf_accuracies = []\n",
        "svm_accuracies = []\n",
        "\n",
        "for test_size in split_ratios:\n",
        "    # Split data\n",
        "    X_train, X_test, y_train, y_test = train_test_split(\n",
        "        X, y, test_size=test_size, random_state=42\n",
        "    )\n",
        "\n",
        "    # Random Forest\n",
        "    model_rf = RandomForestClassifier(n_estimators=100, random_state=42)\n",
        "    model_rf.fit(X_train, y_train)\n",
        "    rf_acc = accuracy_score(y_test, model_rf.predict(X_test))\n",
        "    rf_accuracies.append(rf_acc)\n",
        "\n",
        "    # SVM\n",
        "    model_svm = SVC(kernel='rbf', probability=True)\n",
        "    model_svm.fit(X_train, y_train)\n",
        "    svm_acc = accuracy_score(y_test, model_svm.predict(X_test))\n",
        "    svm_accuracies.append(svm_acc)\n",
        "\n",
        "# Ubah ke persentase train\n",
        "train_percentages = [int((1 - r) * 100) for r in split_ratios]\n",
        "\n",
        "# Plot garis akurasi\n",
        "plt.figure(figsize=(10, 6))\n",
        "plt.plot(train_percentages, rf_accuracies, marker='o', label='Random Forest')\n",
        "plt.plot(train_percentages, svm_accuracies, marker='s', label='SVM')\n",
        "plt.title('Akurasi Model pada Berbagai Rasio Data Training')\n",
        "plt.xlabel('Persentase Data Training (%)')\n",
        "plt.ylabel('Akurasi')\n",
        "plt.ylim(0, 1.1)\n",
        "plt.grid(True)\n",
        "plt.legend()\n",
        "plt.show()\n",
        "\n",
        "# Plot bar chart per rasio\n",
        "plt.figure(figsize=(10, 6))\n",
        "x = np.arange(len(train_percentages))\n",
        "width = 0.35\n",
        "plt.bar(x - width/2, rf_accuracies, width, label='Random Forest')\n",
        "plt.bar(x + width/2, svm_accuracies, width, label='SVM')\n",
        "plt.xticks(x, [f\"{p}% Train\" for p in train_percentages])\n",
        "plt.ylabel('Akurasi')\n",
        "plt.title('Perbandingan Akurasi RF dan SVM')\n",
        "plt.ylim(0, 1.1)\n",
        "plt.legend()\n",
        "plt.tight_layout()\n",
        "plt.show()"
      ],
      "metadata": {
        "colab": {
          "base_uri": "https://localhost:8080/",
          "height": 1000
        },
        "id": "6Nc3fZYAGPtf",
        "outputId": "b2da9add-42eb-4019-f231-b55b46bc3f76"
      },
      "execution_count": 9,
      "outputs": [
        {
          "output_type": "display_data",
          "data": {
            "text/plain": [
              "<Figure size 1000x600 with 1 Axes>"
            ],
            "image/png": "[encoded data removed]"
          },
          "metadata": {}
        },
        {
          "output_type": "display_data",
          "data": {
            "text/plain": [
              "<Figure size 1000x600 with 1 Axes>"
            ],
            "image/png": "[encoded data removed]"
          },
          "metadata": {}
        }
      ]
    },
    {
      "cell_type": "markdown",
      "source": [
        "## Training Paling Optimal"
      ],
      "metadata": {
        "id": "j7ETQIDGc_aN"
      }
    },
    {
      "cell_type": "code",
      "source": [
        "# --- Tentukan rasio terbaik secara manual atau berdasarkan nilai akurasi tertinggi\n",
        "best_index = train_percentages.index(70)  # 70% train artinya test_size=0.3\n",
        "\n",
        "# Lakukan training ulang pada split 70:30\n",
        "X_train, X_test, y_train, y_test = train_test_split(X, y, test_size=split_ratios[best_index], random_state=42)\n",
        "\n",
        "# Train ulang model\n",
        "model_rf = RandomForestClassifier(n_estimators=100, random_state=42).fit(X_train, y_train)\n",
        "model_svm = SVC(kernel='rbf', probability=True).fit(X_train, y_train)\n",
        "\n",
        "# Prediksi\n",
        "y_pred_rf = model_rf.predict(X_test)\n",
        "y_pred_svm = model_svm.predict(X_test)\n",
        "\n",
        "# Confusion matrix Random Forest\n",
        "plt.figure(figsize=(6, 5))\n",
        "cm_rf = confusion_matrix(y_test, y_pred_rf, labels=np.unique(y))\n",
        "sns.heatmap(cm_rf, annot=True, fmt='d', cmap='Blues', xticklabels=np.unique(y), yticklabels=np.unique(y))\n",
        "plt.title(\"Confusion Matrix - Random Forest (70:30)\")\n",
        "plt.xlabel(\"Predicted\")\n",
        "plt.ylabel(\"Actual\")\n",
        "plt.show()\n",
        "\n",
        "# Confusion matrix SVM\n",
        "plt.figure(figsize=(6, 5))\n",
        "cm_svm = confusion_matrix(y_test, y_pred_svm, labels=np.unique(y))\n",
        "sns.heatmap(cm_svm, annot=True, fmt='d', cmap='Greens', xticklabels=np.unique(y), yticklabels=np.unique(y))\n",
        "plt.title(\"Confusion Matrix - SVM (70:30)\")\n",
        "plt.xlabel(\"Predicted\")\n",
        "plt.ylabel(\"Actual\")\n",
        "plt.show()"
      ],
      "metadata": {
        "colab": {
          "base_uri": "https://localhost:8080/",
          "height": 957
        },
        "id": "dkwNlPNcc-I_",
        "outputId": "899a2f00-aa12-422d-e4fd-e5fa8cab76b0"
      },
      "execution_count": 10,
      "outputs": [
        {
          "output_type": "display_data",
          "data": {
            "text/plain": [
              "<Figure size 600x500 with 2 Axes>"
            ],
            "image/png": "[encoded data removed]"
          },
          "metadata": {}
        },
        {
          "output_type": "display_data",
          "data": {
            "text/plain": [
              "<Figure size 600x500 with 2 Axes>"
            ],
            "image/png": "[encoded data removed]"
          },
          "metadata": {}
        }
      ]
    },
    {
      "cell_type": "markdown",
      "source": [
        "## Gradio Interface"
      ],
      "metadata": {
        "id": "5AXBztaIGTN4"
      }
    },
    {
      "cell_type": "code",
      "source": [
        "def predict_image(img, model_tipe='Random Forest', preprocessing_opt='None', brightness=0, rot_angle=0):\n",
        "    img_display = img.copy()\n",
        "    img_resized = cv2.resize(img, (128, 128))\n",
        "\n",
        "    # Preprocessing tunggal\n",
        "    if preprocessing_opt == \"Grayscale\":\n",
        "        img_display = cv2.cvtColor(img_display, cv2.COLOR_BGR2GRAY)\n",
        "        img_display = cv2.cvtColor(img_display, cv2.COLOR_GRAY2BGR)\n",
        "        img_resized = cv2.cvtColor(img_resized, cv2.COLOR_BGR2GRAY)\n",
        "        img_resized = cv2.cvtColor(img_resized, cv2.COLOR_GRAY2BGR)\n",
        "\n",
        "    elif preprocessing_opt == \"Median Filter\":\n",
        "        img_display = cv2.medianBlur(img_display, 3)\n",
        "        img_resized = cv2.medianBlur(img_resized, 3)\n",
        "\n",
        "    # Kecerahan (brightness)\n",
        "    if brightness != 0:\n",
        "        # brightness: nilai -100 sampai +100\n",
        "        img_display = cv2.convertScaleAbs(img_display, alpha=1, beta=brightness)\n",
        "        img_resized = cv2.convertScaleAbs(img_resized, alpha=1, beta=brightness)\n",
        "\n",
        "    # Rotasi (display & resize)\n",
        "    if rot_angle != 0:\n",
        "        (h, w) = img_display.shape[:2]\n",
        "        M_disp = cv2.getRotationMatrix2D((w // 2, h // 2), rot_angle, 1.0)\n",
        "        img_display = cv2.warpAffine(img_display, M_disp, (w, h))\n",
        "\n",
        "        (h2, w2) = img_resized.shape[:2]\n",
        "        M_resize = cv2.getRotationMatrix2D((w2 // 2, h2 // 2), rot_angle, 1.0)\n",
        "        img_resized = cv2.warpAffine(img_resized, M_resize, (w2, h2))\n",
        "\n",
        "    # Ekstraksi fitur\n",
        "    gray = cv2.cvtColor(img_resized, cv2.COLOR_BGR2GRAY)\n",
        "    feat_dict = extract_glcm_features(gray)\n",
        "    feat_df = pd.DataFrame({\n",
        "        \"📌 Nama Fitur\": list(feat_dict.keys()),\n",
        "        \"📈 Nilai\": [round(v, 4) for v in feat_dict.values()]\n",
        "    })\n",
        "\n",
        "    # Prediksi\n",
        "    feat_input = pd.DataFrame([feat_dict])\n",
        "    pred = model_rf.predict(feat_input)[0] if model_tipe == 'Random Forest' else model_svm.predict(feat_input)[0]\n",
        "    prob = model_rf.predict_proba(feat_input).max() if model_tipe == 'Random Forest' else model_svm.predict_proba(feat_input).max()\n",
        "\n",
        "    # Deteksi gambar non-daging\n",
        "    if pred.lower() not in ['meat', 'pork', 'horse meat']:\n",
        "        prob = \"-\"\n",
        "\n",
        "    keterangan = \"\"\"\n",
        "## 📘 Penjelasan Fitur Tekstur & Metode\n",
        "\n",
        "### 🧬 **GLCM (Gray Level Co-occurrence Matrix):**\n",
        "- **Contrast**: Intensitas perbedaan antar piksel.\n",
        "- **Dissimilarity**: Versi sensitif dari contrast.\n",
        "- **Homogeneity**: Tekstur halus jika nilainya tinggi.\n",
        "- **ASM**: Stabilitas tekstur; pola berulang.\n",
        "- **Energy**: Akar dari ASM.\n",
        "- **Correlation**: Hubungan antar piksel.\n",
        "\n",
        "---\n",
        "\n",
        "### 🧠 **Metode:**\n",
        "- **Random Forest**: Voting dari banyak pohon keputusan. Kuat dan tidak mudah overfitting.\n",
        "- **SVM (Support Vector Machine)**: Pemisah optimal antar kelas. Akurat untuk data kecil-menengah.\n",
        "\"\"\"\n",
        "    return (\n",
        "        f\"🧠 Prediksi: {pred}\",\n",
        "        f\"📊 Probabilitas: {prob}\",\n",
        "        feat_df,\n",
        "        keterangan,\n",
        "        img_display\n",
        "    )"
      ],
      "metadata": {
        "id": "TpncDlr2GVBt"
      },
      "execution_count": 13,
      "outputs": []
    },
    {
      "cell_type": "markdown",
      "source": [
        "##Gradio Launch"
      ],
      "metadata": {
        "id": "WnfPXIF5bXV6"
      }
    },
    {
      "cell_type": "code",
      "source": [
        "demo = gr.Interface(\n",
        "    fn=predict_image,\n",
        "    inputs=[\n",
        "        gr.Image(type=\"numpy\", label=\"📤 Upload Gambar Daging / Non-Daging\"),\n",
        "        gr.Radio(['Random Forest', 'SVM'], label=\"🤖 Pilih Metode Klasifikasi\"),\n",
        "        gr.Radio([\"None\", \"Grayscale\", \"Median Filter\"], label=\"🧪 Preprocessing (Pilih Satu)\"),\n",
        "        gr.Slider(-100, 100, value=0, step=5, label=\"💡 Kecerahan Gambar\"),\n",
        "        gr.Slider(minimum=-180, maximum=180, step=1, value=0, label=\"🎡 Rotasi Gambar (Derajat)\")\n",
        "    ],\n",
        "    outputs=[\n",
        "        gr.Textbox(label=\"🎯 Hasil Prediksi\"),\n",
        "        gr.Textbox(label=\"📊 Probabilitas\"),\n",
        "        gr.Dataframe(label=\"📑 Nilai Ekstraksi Fitur\"),\n",
        "        gr.Markdown(label=\"📘 Penjelasan\"),\n",
        "        gr.Image(label=\"🖼️ Gambar Setelah Preprocessing\")\n",
        "    ],\n",
        "    title=\"🥩🔍 Klasifikasi Citra Daging & Non-Daging\",\n",
        "    description=\"Upload gambar untuk analisis tekstur menggunakan GLCM dan klasifikasi via Random Forest atau SVM. Gunakan preprocessing opsional seperti grayscale, median filter, serta pengaturan kecerahan dan rotasi.\"\n",
        ")\n",
        "\n",
        "demo.launch(share=True, inline=False)"
      ],
      "metadata": {
        "colab": {
          "base_uri": "https://localhost:8080/"
        },
        "id": "nyMHQh4Wbec2",
        "outputId": "3e009153-8e53-4028-b4d0-dd06937f103a"
      },
      "execution_count": 15,
      "outputs": [
        {
          "output_type": "stream",
          "name": "stdout",
          "text": [
            "Colab notebook detected. To show errors in colab notebook, set debug=True in launch()\n",
            "* Running on public URL: https://d4c312f8fc2f492ca1.gradio.live\n",
            "\n",
            "This share link expires in 1 week. For free permanent hosting and GPU upgrades, run `gradio deploy` from the terminal in the working directory to deploy to Hugging Face Spaces (https://huggingface.co/spaces)\n"
          ]
        },
        {
          "output_type": "execute_result",
          "data": {
            "text/plain": []
          },
          "metadata": {},
          "execution_count": 15
        }
      ]
    }
  ]
}